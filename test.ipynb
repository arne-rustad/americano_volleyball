{
 "cells": [
  {
   "cell_type": "code",
   "execution_count": 3,
   "metadata": {},
   "outputs": [
    {
     "name": "stdout",
     "output_type": "stream",
     "text": [
      "The autoreload extension is already loaded. To reload it, use:\n",
      "  %reload_ext autoreload\n"
     ]
    }
   ],
   "source": [
    "%load_ext autoreload\n",
    "%autoreload 2\n",
    "\n",
    "from americano.players import (\n",
    "    Player,\n",
    "    PlayerList,\n",
    ")"
   ]
  },
  {
   "cell_type": "code",
   "execution_count": 8,
   "metadata": {},
   "outputs": [],
   "source": [
    "\n",
    "from americano.models.enums import Gender\n",
    "\n",
    "\n",
    "players = [\n",
    "    Player(id=1, name=\"Alice\", gender=Gender.FEMALE, games_played=2, score=100),  # noqa E501\n",
    "    Player(id=2, name=\"Bob\", gender=Gender.MALE, games_played=1, score=90),\n",
    "    Player(id=3, name=\"Charlie\", gender=Gender.MALE, games_played=3, score=110),  # noqa E501\n",
    "    Player(id=4, name=\"Diana\", gender=Gender.FEMALE, games_played=0, score=80),  # noqa E501\n",
    "    Player(id=5, name=\"Eve\", gender=Gender.FEMALE, games_played=2, score=95),  # noqa E501\n",
    "    Player(id=6, name=\"Frank\", gender=Gender.MALE, games_played=1, score=85),  # noqa E501\n",
    "]\n",
    "\n",
    "player_list = PlayerList()\n",
    "player_list.players = players\n"
   ]
  },
  {
   "cell_type": "markdown",
   "metadata": {},
   "source": [
    "| Name    | Number | Team |\n",
    "|---------|--------|------|\n",
    "| Andreas | 1      | A    |\n",
    "| Agnete  | 2      | B    |\n",
    "| Arne    | 3      | B    |\n",
    "| Vilde   | 4      | A    |\n",
    "| Sondre  | 5      | A    |\n",
    "| Elin    | 6      | B    |\n",
    "| Eirik   | 7      | B    |\n",
    "| Anna    | 8      | A    |\n",
    "\n",
    "Andreas, Agnete, Arne, Vilde, Sondre, Elin, Eirik, Anna\n",
    "\n",
    "1,3,5\n",
    "2,4,6"
   ]
  },
  {
   "cell_type": "code",
   "execution_count": 25,
   "metadata": {},
   "outputs": [
    {
     "name": "stdout",
     "output_type": "stream",
     "text": [
      "['Charlie', 'Alice', 'Bob', 'Eve', 'Frank', 'Diana']\n",
      "n_players: 3\n",
      "[['Charlie', 'Alice', 'Bob', 'Eve'], ['Frank', 'Diana']]\n",
      "['Charlie', 'Eve', 'Diana'] ['Alice', 'Bob', 'Frank']\n"
     ]
    }
   ],
   "source": [
    "from americano.game_session import GameSession\n",
    "\n",
    "\n",
    "game_session = GameSession(\n",
    "    n_courts=1, n_game_points=21, players=player_list\n",
    ")\n",
    "game_session.create_court_sessions(\n",
    "    n_players_each_team=[3],\n",
    "    players=player_list,\n",
    "    mix_tournament=True,\n",
    ")"
   ]
  },
  {
   "cell_type": "code",
   "execution_count": 26,
   "metadata": {},
   "outputs": [
    {
     "data": {
      "text/plain": [
       "[CourtSession(n_players_each_team=3, teamA=['Charlie', 'Eve', 'Diana'], teamB=['Alice', 'Bob', 'Frank'], n_game_points=21, score_team_A=None, score_team_B=None)]"
      ]
     },
     "execution_count": 26,
     "metadata": {},
     "output_type": "execute_result"
    }
   ],
   "source": [
    "game_session.court_sessions"
   ]
  },
  {
   "cell_type": "code",
   "execution_count": null,
   "metadata": {},
   "outputs": [],
   "source": [
    "players = PlayerList()\n",
    "players.add_players(saved_players)"
   ]
  },
  {
   "cell_type": "code",
   "execution_count": null,
   "metadata": {},
   "outputs": [],
   "source": [
    "players.print()"
   ]
  },
  {
   "cell_type": "code",
   "execution_count": null,
   "metadata": {},
   "outputs": [],
   "source": [
    "game_session = GameSession(\n",
    "    n_courts=3,\n",
    "    n_game_points=21,\n",
    "    players=players,\n",
    ")"
   ]
  },
  {
   "cell_type": "code",
   "execution_count": null,
   "metadata": {},
   "outputs": [],
   "source": [
    "players.draw_players(n=5)"
   ]
  },
  {
   "cell_type": "code",
   "execution_count": null,
   "metadata": {},
   "outputs": [],
   "source": [
    "game_session.create_court_sessions([3,3,3])"
   ]
  },
  {
   "cell_type": "code",
   "execution_count": null,
   "metadata": {},
   "outputs": [],
   "source": [
    "game_session.update_session_score(court_index=0, score_team_A=14)\n",
    "game_session.update_session_score(court_index=1, score_team_A=10)\n",
    "game_session.update_session_score(court_index=2, score_team_A=9)"
   ]
  },
  {
   "cell_type": "code",
   "execution_count": null,
   "metadata": {},
   "outputs": [],
   "source": [
    "game_session.court_sessions"
   ]
  },
  {
   "cell_type": "code",
   "execution_count": null,
   "metadata": {},
   "outputs": [],
   "source": [
    "game_session.add_score_to_players()"
   ]
  },
  {
   "cell_type": "code",
   "execution_count": null,
   "metadata": {},
   "outputs": [],
   "source": [
    "players.print()"
   ]
  },
  {
   "cell_type": "code",
   "execution_count": null,
   "metadata": {},
   "outputs": [],
   "source": [
    "game_session = GameSession(\n",
    "    n_courts=3,\n",
    "    n_game_points=21,\n",
    "    players=players,\n",
    ")\n",
    "game_session.create_court_sessions([3,3,3])"
   ]
  },
  {
   "cell_type": "code",
   "execution_count": null,
   "metadata": {},
   "outputs": [],
   "source": [
    "game_session.players"
   ]
  },
  {
   "cell_type": "code",
   "execution_count": null,
   "metadata": {},
   "outputs": [],
   "source": [
    "game_session.update_session_score(court_index=0, score_team_A=9)\n",
    "game_session.update_session_score(court_index=1, score_team_A=5)\n",
    "game_session.update_session_score(court_index=2, score_team_A=4)"
   ]
  },
  {
   "cell_type": "code",
   "execution_count": null,
   "metadata": {},
   "outputs": [],
   "source": [
    "game_session.add_score_to_players()"
   ]
  },
  {
   "cell_type": "code",
   "execution_count": null,
   "metadata": {},
   "outputs": [],
   "source": [
    "players.print()"
   ]
  },
  {
   "cell_type": "code",
   "execution_count": null,
   "metadata": {},
   "outputs": [],
   "source": [
    "game_session = GameSession(\n",
    "    n_courts=3,\n",
    "    n_game_points=21,\n",
    "    players=players,\n",
    ")\n",
    "game_session.create_court_sessions([3,3,3])"
   ]
  },
  {
   "cell_type": "code",
   "execution_count": null,
   "metadata": {},
   "outputs": [],
   "source": [
    "game_session.court_sessions"
   ]
  },
  {
   "cell_type": "code",
   "execution_count": null,
   "metadata": {},
   "outputs": [],
   "source": [
    "players.to_pandas()"
   ]
  },
  {
   "cell_type": "code",
   "execution_count": null,
   "metadata": {},
   "outputs": [],
   "source": [
    "s = players.model_dump_json()\n",
    "PlayerList.parse_raw(s)"
   ]
  },
  {
   "cell_type": "code",
   "execution_count": null,
   "metadata": {},
   "outputs": [],
   "source": [
    "\n"
   ]
  },
  {
   "cell_type": "code",
   "execution_count": null,
   "metadata": {},
   "outputs": [],
   "source": []
  }
 ],
 "metadata": {
  "kernelspec": {
   "display_name": "americano-yCQDQojD-py3.10",
   "language": "python",
   "name": "python3"
  },
  "language_info": {
   "codemirror_mode": {
    "name": "ipython",
    "version": 3
   },
   "file_extension": ".py",
   "mimetype": "text/x-python",
   "name": "python",
   "nbconvert_exporter": "python",
   "pygments_lexer": "ipython3",
   "version": "3.10.12"
  }
 },
 "nbformat": 4,
 "nbformat_minor": 2
}
