{
 "cells": [
  {
   "cell_type": "code",
   "execution_count": 9,
   "metadata": {},
   "outputs": [],
   "source": [
    "import os\n",
    "import sys\n",
    "import yaml\n",
    "\n",
    "sys.path.append(\"..\")"
   ]
  },
  {
   "cell_type": "code",
   "execution_count": 10,
   "metadata": {},
   "outputs": [
    {
     "data": {
      "text/plain": [
       "[{'name': 'Agnete', 'gender': 'Female'},\n",
       " {'name': 'Andreas', 'gender': 'Male'},\n",
       " {'name': 'Anne Marte', 'gender': 'Female'},\n",
       " {'name': 'Arne', 'gender': 'Male'},\n",
       " {'name': 'Axel', 'gender': 'Male'},\n",
       " {'name': 'Cecilie', 'gender': 'Female'},\n",
       " {'name': 'David', 'gender': 'Male'},\n",
       " {'name': 'Edevard', 'gender': 'Male'},\n",
       " {'name': 'Emilie', 'gender': 'Female'},\n",
       " {'name': 'Felix', 'gender': 'Male'},\n",
       " {'name': 'Havard', 'gender': 'Male'},\n",
       " {'name': 'Jonas', 'gender': 'Male'},\n",
       " {'name': 'Julie', 'gender': 'Female'},\n",
       " {'name': 'Karen', 'gender': 'Female'},\n",
       " {'name': 'Kristoffer', 'gender': 'Male'},\n",
       " {'name': 'Line', 'gender': 'Female'},\n",
       " {'name': 'Maren', 'gender': 'Female'},\n",
       " {'name': 'Øyvind', 'gender': 'Male'},\n",
       " {'name': 'Sabrina', 'gender': 'Female'},\n",
       " {'name': 'Sander', 'gender': 'Male'},\n",
       " {'name': 'Sankeethaan', 'gender': 'Male'},\n",
       " {'name': 'Sheila-Mari', 'gender': 'Female'},\n",
       " {'name': 'Sigurd', 'gender': 'Male'},\n",
       " {'name': 'Stian', 'gender': 'Male'},\n",
       " {'name': 'Stine', 'gender': 'Female'},\n",
       " {'name': 'Vegard', 'gender': 'Male'}]"
      ]
     },
     "execution_count": 10,
     "metadata": {},
     "output_type": "execute_result"
    }
   ],
   "source": [
    "from americano.paths import SAVED_PLAYERS_PATH\n",
    "\n",
    "if SAVED_PLAYERS_PATH.exists():\n",
    "    with open(SAVED_PLAYERS_PATH) as f:\n",
    "        SAVED_PLAYERS = yaml.safe_load(f)\n",
    "SAVED_PLAYERS"
   ]
  },
  {
   "cell_type": "code",
   "execution_count": 3,
   "metadata": {},
   "outputs": [
    {
     "name": "stderr",
     "output_type": "stream",
     "text": [
      "Python-dotenv could not parse statement starting at line 3\n",
      "Python-dotenv could not parse statement starting at line 4\n",
      "Python-dotenv could not parse statement starting at line 7\n",
      "Python-dotenv could not parse statement starting at line 8\n",
      "Python-dotenv could not parse statement starting at line 11\n",
      "Python-dotenv could not parse statement starting at line 12\n",
      "Python-dotenv could not parse statement starting at line 15\n",
      "Python-dotenv could not parse statement starting at line 16\n",
      "Python-dotenv could not parse statement starting at line 19\n",
      "Python-dotenv could not parse statement starting at line 20\n",
      "Python-dotenv could not parse statement starting at line 23\n",
      "Python-dotenv could not parse statement starting at line 24\n",
      "Python-dotenv could not parse statement starting at line 27\n",
      "Python-dotenv could not parse statement starting at line 28\n",
      "Python-dotenv could not parse statement starting at line 31\n",
      "Python-dotenv could not parse statement starting at line 32\n",
      "Python-dotenv could not parse statement starting at line 35\n",
      "Python-dotenv could not parse statement starting at line 36\n",
      "Python-dotenv could not parse statement starting at line 39\n",
      "Python-dotenv could not parse statement starting at line 40\n",
      "Python-dotenv could not parse statement starting at line 43\n",
      "Python-dotenv could not parse statement starting at line 44\n",
      "Python-dotenv could not parse statement starting at line 47\n",
      "Python-dotenv could not parse statement starting at line 48\n",
      "Python-dotenv could not parse statement starting at line 51\n",
      "Python-dotenv could not parse statement starting at line 52\n",
      "Python-dotenv could not parse statement starting at line 55\n",
      "Python-dotenv could not parse statement starting at line 56\n",
      "Python-dotenv could not parse statement starting at line 59\n",
      "Python-dotenv could not parse statement starting at line 60\n",
      "Python-dotenv could not parse statement starting at line 63\n",
      "Python-dotenv could not parse statement starting at line 64\n",
      "Python-dotenv could not parse statement starting at line 67\n",
      "Python-dotenv could not parse statement starting at line 68\n",
      "Python-dotenv could not parse statement starting at line 71\n",
      "Python-dotenv could not parse statement starting at line 72\n",
      "Python-dotenv could not parse statement starting at line 75\n",
      "Python-dotenv could not parse statement starting at line 76\n",
      "Python-dotenv could not parse statement starting at line 79\n",
      "Python-dotenv could not parse statement starting at line 80\n",
      "Python-dotenv could not parse statement starting at line 83\n",
      "Python-dotenv could not parse statement starting at line 84\n",
      "Python-dotenv could not parse statement starting at line 87\n",
      "Python-dotenv could not parse statement starting at line 88\n",
      "Python-dotenv could not parse statement starting at line 91\n",
      "Python-dotenv could not parse statement starting at line 92\n",
      "Python-dotenv could not parse statement starting at line 95\n",
      "Python-dotenv could not parse statement starting at line 96\n",
      "Python-dotenv could not parse statement starting at line 99\n",
      "Python-dotenv could not parse statement starting at line 100\n",
      "Python-dotenv could not parse statement starting at line 103\n",
      "Python-dotenv could not parse statement starting at line 104\n"
     ]
    }
   ],
   "source": [
    "from dotenv import load_dotenv\n",
    "\n",
    "load_dotenv()\n",
    "\n",
    "saved_players = os.getenv(\"SAVED_PLAYERS\")\n"
   ]
  },
  {
   "cell_type": "code",
   "execution_count": 10,
   "metadata": {},
   "outputs": [
    {
     "ename": "JSONDecodeError",
     "evalue": "Expecting value: line 1 column 2 (char 1)",
     "output_type": "error",
     "traceback": [
      "\u001b[0;31m---------------------------------------------------------------------------\u001b[0m",
      "\u001b[0;31mJSONDecodeError\u001b[0m                           Traceback (most recent call last)",
      "Cell \u001b[0;32mIn[10], line 5\u001b[0m\n\u001b[1;32m      1\u001b[0m \u001b[38;5;28;01mimport\u001b[39;00m \u001b[38;5;21;01mjson\u001b[39;00m\n\u001b[1;32m      3\u001b[0m inp \u001b[38;5;241m=\u001b[39m \u001b[38;5;124m\"\u001b[39m\u001b[38;5;124m[0,2,1,-3]\u001b[39m\u001b[38;5;124m\"\u001b[39m\n\u001b[0;32m----> 5\u001b[0m data \u001b[38;5;241m=\u001b[39m \u001b[43mjson\u001b[49m\u001b[38;5;241;43m.\u001b[39;49m\u001b[43mloads\u001b[49m\u001b[43m(\u001b[49m\u001b[43msaved_players\u001b[49m\u001b[43m)\u001b[49m\n\u001b[1;32m      6\u001b[0m data\n",
      "File \u001b[0;32m/usr/lib/python3.10/json/__init__.py:346\u001b[0m, in \u001b[0;36mloads\u001b[0;34m(s, cls, object_hook, parse_float, parse_int, parse_constant, object_pairs_hook, **kw)\u001b[0m\n\u001b[1;32m    341\u001b[0m     s \u001b[38;5;241m=\u001b[39m s\u001b[38;5;241m.\u001b[39mdecode(detect_encoding(s), \u001b[38;5;124m'\u001b[39m\u001b[38;5;124msurrogatepass\u001b[39m\u001b[38;5;124m'\u001b[39m)\n\u001b[1;32m    343\u001b[0m \u001b[38;5;28;01mif\u001b[39;00m (\u001b[38;5;28mcls\u001b[39m \u001b[38;5;129;01mis\u001b[39;00m \u001b[38;5;28;01mNone\u001b[39;00m \u001b[38;5;129;01mand\u001b[39;00m object_hook \u001b[38;5;129;01mis\u001b[39;00m \u001b[38;5;28;01mNone\u001b[39;00m \u001b[38;5;129;01mand\u001b[39;00m\n\u001b[1;32m    344\u001b[0m         parse_int \u001b[38;5;129;01mis\u001b[39;00m \u001b[38;5;28;01mNone\u001b[39;00m \u001b[38;5;129;01mand\u001b[39;00m parse_float \u001b[38;5;129;01mis\u001b[39;00m \u001b[38;5;28;01mNone\u001b[39;00m \u001b[38;5;129;01mand\u001b[39;00m\n\u001b[1;32m    345\u001b[0m         parse_constant \u001b[38;5;129;01mis\u001b[39;00m \u001b[38;5;28;01mNone\u001b[39;00m \u001b[38;5;129;01mand\u001b[39;00m object_pairs_hook \u001b[38;5;129;01mis\u001b[39;00m \u001b[38;5;28;01mNone\u001b[39;00m \u001b[38;5;129;01mand\u001b[39;00m \u001b[38;5;129;01mnot\u001b[39;00m kw):\n\u001b[0;32m--> 346\u001b[0m     \u001b[38;5;28;01mreturn\u001b[39;00m \u001b[43m_default_decoder\u001b[49m\u001b[38;5;241;43m.\u001b[39;49m\u001b[43mdecode\u001b[49m\u001b[43m(\u001b[49m\u001b[43ms\u001b[49m\u001b[43m)\u001b[49m\n\u001b[1;32m    347\u001b[0m \u001b[38;5;28;01mif\u001b[39;00m \u001b[38;5;28mcls\u001b[39m \u001b[38;5;129;01mis\u001b[39;00m \u001b[38;5;28;01mNone\u001b[39;00m:\n\u001b[1;32m    348\u001b[0m     \u001b[38;5;28mcls\u001b[39m \u001b[38;5;241m=\u001b[39m JSONDecoder\n",
      "File \u001b[0;32m/usr/lib/python3.10/json/decoder.py:337\u001b[0m, in \u001b[0;36mJSONDecoder.decode\u001b[0;34m(self, s, _w)\u001b[0m\n\u001b[1;32m    332\u001b[0m \u001b[38;5;28;01mdef\u001b[39;00m \u001b[38;5;21mdecode\u001b[39m(\u001b[38;5;28mself\u001b[39m, s, _w\u001b[38;5;241m=\u001b[39mWHITESPACE\u001b[38;5;241m.\u001b[39mmatch):\n\u001b[1;32m    333\u001b[0m \u001b[38;5;250m    \u001b[39m\u001b[38;5;124;03m\"\"\"Return the Python representation of ``s`` (a ``str`` instance\u001b[39;00m\n\u001b[1;32m    334\u001b[0m \u001b[38;5;124;03m    containing a JSON document).\u001b[39;00m\n\u001b[1;32m    335\u001b[0m \n\u001b[1;32m    336\u001b[0m \u001b[38;5;124;03m    \"\"\"\u001b[39;00m\n\u001b[0;32m--> 337\u001b[0m     obj, end \u001b[38;5;241m=\u001b[39m \u001b[38;5;28;43mself\u001b[39;49m\u001b[38;5;241;43m.\u001b[39;49m\u001b[43mraw_decode\u001b[49m\u001b[43m(\u001b[49m\u001b[43ms\u001b[49m\u001b[43m,\u001b[49m\u001b[43m \u001b[49m\u001b[43midx\u001b[49m\u001b[38;5;241;43m=\u001b[39;49m\u001b[43m_w\u001b[49m\u001b[43m(\u001b[49m\u001b[43ms\u001b[49m\u001b[43m,\u001b[49m\u001b[43m \u001b[49m\u001b[38;5;241;43m0\u001b[39;49m\u001b[43m)\u001b[49m\u001b[38;5;241;43m.\u001b[39;49m\u001b[43mend\u001b[49m\u001b[43m(\u001b[49m\u001b[43m)\u001b[49m\u001b[43m)\u001b[49m\n\u001b[1;32m    338\u001b[0m     end \u001b[38;5;241m=\u001b[39m _w(s, end)\u001b[38;5;241m.\u001b[39mend()\n\u001b[1;32m    339\u001b[0m     \u001b[38;5;28;01mif\u001b[39;00m end \u001b[38;5;241m!=\u001b[39m \u001b[38;5;28mlen\u001b[39m(s):\n",
      "File \u001b[0;32m/usr/lib/python3.10/json/decoder.py:355\u001b[0m, in \u001b[0;36mJSONDecoder.raw_decode\u001b[0;34m(self, s, idx)\u001b[0m\n\u001b[1;32m    353\u001b[0m     obj, end \u001b[38;5;241m=\u001b[39m \u001b[38;5;28mself\u001b[39m\u001b[38;5;241m.\u001b[39mscan_once(s, idx)\n\u001b[1;32m    354\u001b[0m \u001b[38;5;28;01mexcept\u001b[39;00m \u001b[38;5;167;01mStopIteration\u001b[39;00m \u001b[38;5;28;01mas\u001b[39;00m err:\n\u001b[0;32m--> 355\u001b[0m     \u001b[38;5;28;01mraise\u001b[39;00m JSONDecodeError(\u001b[38;5;124m\"\u001b[39m\u001b[38;5;124mExpecting value\u001b[39m\u001b[38;5;124m\"\u001b[39m, s, err\u001b[38;5;241m.\u001b[39mvalue) \u001b[38;5;28;01mfrom\u001b[39;00m \u001b[38;5;28;01mNone\u001b[39;00m\n\u001b[1;32m    356\u001b[0m \u001b[38;5;28;01mreturn\u001b[39;00m obj, end\n",
      "\u001b[0;31mJSONDecodeError\u001b[0m: Expecting value: line 1 column 2 (char 1)"
     ]
    }
   ],
   "source": [
    "import json\n",
    "\n",
    "inp = \"[0,2,1,-3]\"\n",
    "\n",
    "data = json.loads(saved_players)\n",
    "data"
   ]
  }
 ],
 "metadata": {
  "kernelspec": {
   "display_name": "americano-OOC_vjqr-py3.10",
   "language": "python",
   "name": "python3"
  },
  "language_info": {
   "codemirror_mode": {
    "name": "ipython",
    "version": 3
   },
   "file_extension": ".py",
   "mimetype": "text/x-python",
   "name": "python",
   "nbconvert_exporter": "python",
   "pygments_lexer": "ipython3",
   "version": "3.10.12"
  }
 },
 "nbformat": 4,
 "nbformat_minor": 2
}
